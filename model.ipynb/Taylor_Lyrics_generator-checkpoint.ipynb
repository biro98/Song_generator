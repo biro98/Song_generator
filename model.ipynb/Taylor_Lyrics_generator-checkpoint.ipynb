{
 "cells": [
  {
   "cell_type": "code",
   "execution_count": 1,
   "id": "b0d8d6f1",
   "metadata": {},
   "outputs": [
    {
     "name": "stdout",
     "output_type": "stream",
     "text": [
      "Using device: mps\n"
     ]
    },
    {
     "name": "stderr",
     "output_type": "stream",
     "text": [
      "  5%|██▏                                         | 1/20 [00:48<15:28, 48.86s/it]"
     ]
    },
    {
     "name": "stdout",
     "output_type": "stream",
     "text": [
      "Epoch 1/20 \t loss=1.7241 \t val_loss=1.5147 \t time=48.86s\n",
      "Model saved at epoch 1\n"
     ]
    },
    {
     "name": "stderr",
     "output_type": "stream",
     "text": [
      "\r",
      " 10%|████▍                                       | 2/20 [01:37<14:41, 49.00s/it]"
     ]
    },
    {
     "name": "stdout",
     "output_type": "stream",
     "text": [
      "Epoch 2/20 \t loss=1.4148 \t val_loss=1.3984 \t time=49.08s\n",
      "Model saved at epoch 2\n"
     ]
    },
    {
     "name": "stderr",
     "output_type": "stream",
     "text": [
      "\r",
      " 15%|██████▌                                     | 3/20 [02:27<13:57, 49.28s/it]"
     ]
    },
    {
     "name": "stdout",
     "output_type": "stream",
     "text": [
      "Epoch 3/20 \t loss=1.3213 \t val_loss=1.3480 \t time=49.60s\n",
      "Model saved at epoch 3\n"
     ]
    },
    {
     "name": "stderr",
     "output_type": "stream",
     "text": [
      "\r",
      " 20%|████████▊                                   | 4/20 [03:17<13:12, 49.53s/it]"
     ]
    },
    {
     "name": "stdout",
     "output_type": "stream",
     "text": [
      "Epoch 4/20 \t loss=1.2650 \t val_loss=1.3185 \t time=49.89s\n",
      "Model saved at epoch 4\n"
     ]
    },
    {
     "name": "stderr",
     "output_type": "stream",
     "text": [
      "\r",
      " 25%|███████████                                 | 5/20 [04:05<12:15, 49.03s/it]"
     ]
    },
    {
     "name": "stdout",
     "output_type": "stream",
     "text": [
      "Epoch 5/20 \t loss=1.2248 \t val_loss=1.2967 \t time=48.15s\n",
      "Model saved at epoch 5\n"
     ]
    },
    {
     "name": "stderr",
     "output_type": "stream",
     "text": [
      "\r",
      " 30%|█████████████▏                              | 6/20 [04:55<11:30, 49.32s/it]"
     ]
    },
    {
     "name": "stdout",
     "output_type": "stream",
     "text": [
      "Epoch 6/20 \t loss=1.1940 \t val_loss=1.2748 \t time=49.86s\n",
      "Model saved at epoch 6\n"
     ]
    },
    {
     "name": "stderr",
     "output_type": "stream",
     "text": [
      "\r",
      " 35%|███████████████▍                            | 7/20 [05:45<10:42, 49.46s/it]"
     ]
    },
    {
     "name": "stdout",
     "output_type": "stream",
     "text": [
      "Epoch 7/20 \t loss=1.1687 \t val_loss=1.2722 \t time=49.73s\n",
      "Model saved at epoch 7\n"
     ]
    },
    {
     "name": "stderr",
     "output_type": "stream",
     "text": [
      "\r",
      " 40%|█████████████████▌                          | 8/20 [06:34<09:52, 49.36s/it]"
     ]
    },
    {
     "name": "stdout",
     "output_type": "stream",
     "text": [
      "Epoch 8/20 \t loss=1.1475 \t val_loss=1.2595 \t time=49.13s\n",
      "Model saved at epoch 8\n"
     ]
    },
    {
     "name": "stderr",
     "output_type": "stream",
     "text": [
      "\r",
      " 45%|███████████████████▊                        | 9/20 [07:23<09:03, 49.40s/it]"
     ]
    },
    {
     "name": "stdout",
     "output_type": "stream",
     "text": [
      "Epoch 9/20 \t loss=1.1276 \t val_loss=1.2547 \t time=49.47s\n",
      "Model saved at epoch 9\n"
     ]
    },
    {
     "name": "stderr",
     "output_type": "stream",
     "text": [
      "\r",
      " 50%|█████████████████████▌                     | 10/20 [08:13<08:14, 49.48s/it]"
     ]
    },
    {
     "name": "stdout",
     "output_type": "stream",
     "text": [
      "Epoch 10/20 \t loss=1.1141 \t val_loss=1.2427 \t time=49.65s\n",
      "Model saved at epoch 10\n"
     ]
    },
    {
     "name": "stderr",
     "output_type": "stream",
     "text": [
      "\r",
      " 55%|███████████████████████▋                   | 11/20 [09:02<07:24, 49.37s/it]"
     ]
    },
    {
     "name": "stdout",
     "output_type": "stream",
     "text": [
      "Epoch 11/20 \t loss=1.1018 \t val_loss=1.2426 \t time=49.11s\n",
      "Model saved at epoch 11\n"
     ]
    },
    {
     "name": "stderr",
     "output_type": "stream",
     "text": [
      "\r",
      " 60%|█████████████████████████▊                 | 12/20 [09:51<06:33, 49.23s/it]"
     ]
    },
    {
     "name": "stdout",
     "output_type": "stream",
     "text": [
      "Epoch 12/20 \t loss=1.0917 \t val_loss=1.2377 \t time=48.91s\n",
      "Model saved at epoch 12\n"
     ]
    },
    {
     "name": "stderr",
     "output_type": "stream",
     "text": [
      "\r",
      " 65%|███████████████████████████▉               | 13/20 [10:41<05:45, 49.43s/it]"
     ]
    },
    {
     "name": "stdout",
     "output_type": "stream",
     "text": [
      "Epoch 13/20 \t loss=1.0815 \t val_loss=1.2293 \t time=49.86s\n",
      "Model saved at epoch 13\n"
     ]
    },
    {
     "name": "stderr",
     "output_type": "stream",
     "text": [
      "\r",
      " 70%|██████████████████████████████             | 14/20 [11:30<04:56, 49.36s/it]"
     ]
    },
    {
     "name": "stdout",
     "output_type": "stream",
     "text": [
      "Epoch 14/20 \t loss=1.0705 \t val_loss=1.2351 \t time=49.22s\n"
     ]
    },
    {
     "name": "stderr",
     "output_type": "stream",
     "text": [
      "\r",
      " 75%|████████████████████████████████▎          | 15/20 [12:18<04:04, 48.87s/it]"
     ]
    },
    {
     "name": "stdout",
     "output_type": "stream",
     "text": [
      "Epoch 15/20 \t loss=1.0636 \t val_loss=1.2330 \t time=47.71s\n"
     ]
    },
    {
     "name": "stderr",
     "output_type": "stream",
     "text": [
      "\r",
      " 80%|██████████████████████████████████▍        | 16/20 [13:06<03:14, 48.56s/it]"
     ]
    },
    {
     "name": "stdout",
     "output_type": "stream",
     "text": [
      "Epoch 16/20 \t loss=1.0576 \t val_loss=1.2265 \t time=47.83s\n",
      "Model saved at epoch 16\n"
     ]
    },
    {
     "name": "stderr",
     "output_type": "stream",
     "text": [
      "\r",
      " 85%|████████████████████████████████████▌      | 17/20 [15:44<04:04, 81.62s/it]"
     ]
    },
    {
     "name": "stdout",
     "output_type": "stream",
     "text": [
      "Epoch 17/20 \t loss=1.0532 \t val_loss=1.2310 \t time=158.50s\n"
     ]
    },
    {
     "name": "stderr",
     "output_type": "stream",
     "text": [
      "\r",
      " 90%|██████████████████████████████████████▋    | 18/20 [16:33<02:23, 71.66s/it]"
     ]
    },
    {
     "name": "stdout",
     "output_type": "stream",
     "text": [
      "Epoch 18/20 \t loss=1.0456 \t val_loss=1.2255 \t time=48.46s\n",
      "Model saved at epoch 18\n"
     ]
    },
    {
     "name": "stderr",
     "output_type": "stream",
     "text": [
      "\r",
      " 95%|████████████████████████████████████████▊  | 19/20 [17:21<01:04, 64.68s/it]"
     ]
    },
    {
     "name": "stdout",
     "output_type": "stream",
     "text": [
      "Epoch 19/20 \t loss=1.0411 \t val_loss=1.2271 \t time=48.43s\n"
     ]
    },
    {
     "name": "stderr",
     "output_type": "stream",
     "text": [
      "100%|███████████████████████████████████████████| 20/20 [18:10<00:00, 54.52s/it]"
     ]
    },
    {
     "name": "stdout",
     "output_type": "stream",
     "text": [
      "Epoch 20/20 \t loss=1.0394 \t val_loss=1.2244 \t time=48.81s\n",
      "Model saved at epoch 20\n",
      "Average training loss: 1.1674\n",
      "Average validation loss: 1.2746\n"
     ]
    },
    {
     "name": "stderr",
     "output_type": "stream",
     "text": [
      "\n"
     ]
    }
   ],
   "source": [
    "import torch\n",
    "from torch.utils.data import Dataset, DataLoader, random_split\n",
    "import pandas as pd\n",
    "import numpy as np\n",
    "import torch.nn as nn\n",
    "import torch.optim as optim\n",
    "import time\n",
    "\n",
    "#Set a random seed for reproducibility\n",
    "torch.manual_seed(42)\n",
    "\n",
    "class LyricsDataset(Dataset):\n",
    "    def __init__(self, csv_paths, seq_length=50, step=1):\n",
    "        # Read and concatenate the data from CSV files\n",
    "        dataframes = [pd.read_csv(path) for path in csv_paths]\n",
    "        lyrics_data = pd.concat(dataframes)\n",
    "\n",
    "        # Concatenate all lyrics into a single string\n",
    "        lyrics_text = lyrics_data['lyric'].str.cat(sep='\\n').lower()\n",
    "\n",
    "        # Create a sorted list of unique characters\n",
    "        chars = sorted(list(set(lyrics_text)))\n",
    "        self.char_to_int = {c: i for i, c in enumerate(chars)}\n",
    "        self.int_to_char = {i: c for i, c in enumerate(chars)}\n",
    "\n",
    "        # Create the sequences\n",
    "        self.sentences = []\n",
    "        self.next_chars = []\n",
    "        for i in range(0, len(lyrics_text) - seq_length, step):\n",
    "            self.sentences.append(lyrics_text[i: i + seq_length])\n",
    "            self.next_chars.append(lyrics_text[i + seq_length])\n",
    "\n",
    "        # Call getdata to preprocess the data\n",
    "        self.X, self.y = self.getdata(seq_length)\n",
    "\n",
    "    def getdata(self, seq_length):\n",
    "        X = np.zeros((len(self.sentences), seq_length), dtype=int)\n",
    "        y = np.zeros(len(self.sentences), dtype=int)\n",
    "        for i, sentence in enumerate(self.sentences):\n",
    "            for t, char in enumerate(sentence):\n",
    "                X[i, t] = self.char_to_int[char]\n",
    "            y[i] = self.char_to_int[self.next_chars[i]]\n",
    "        return torch.tensor(X, dtype=torch.long), torch.tensor(y, dtype=torch.long)\n",
    "\n",
    "    def __len__(self):\n",
    "        return len(self.X)\n",
    "\n",
    "    def __getitem__(self, idx):\n",
    "        return self.X[idx], self.y[idx]\n",
    "\n",
    "# Paths to your CSV files\n",
    "csv_paths = [\n",
    "    \"../01-taylor_swift.csv\",\n",
    "    \"../02-fearless_taylors_version.csv\",\n",
    "    \"../03-speak_now_deluxe_package.csv\",\n",
    "    \"../04-red_deluxe_edition.csv\",\n",
    "    \"../05-1989_deluxe.csv\",\n",
    "    \"../06-reputation.csv\",\n",
    "    \"../07-lover.csv\",\n",
    "    \"../08-folklore_deluxe_version.csv\",\n",
    "    \"../09-evermore_deluxe_version.csv\"\n",
    "]\n",
    "\n",
    "# Create an instance of the LyricsDataset\n",
    "dataset = LyricsDataset(csv_paths)\n",
    "\n",
    "# Use DataLoader to create batches\n",
    "device = torch.device(\"mps\" if torch.backends.mps.is_available() else \"cpu\")\n",
    "print(\"Using device:\", device)\n",
    "\n",
    "train_size = int(0.8 * len(dataset))  # 80% of the dataset for training\n",
    "val_size = len(dataset) - train_size  # Remaining 20% for validation\n",
    "train_dataset, val_dataset = random_split(dataset, [train_size, val_size])\n",
    "\n",
    "train_loader = DataLoader(train_dataset, batch_size=128, shuffle=True)\n",
    "val_loader = DataLoader(val_dataset, batch_size=128, shuffle=False)\n",
    "\n",
    "class Simple_LSTM(nn.Module):\n",
    "    def __init__(self, n_vocab, hidden_dim, embedding_dim, dropout=0.2):\n",
    "        super(Simple_LSTM, self).__init__()\n",
    "        \n",
    "        self.hidden_dim = hidden_dim\n",
    "        self.embedding_dim = embedding_dim\n",
    "        self.lstm = nn.LSTM(embedding_dim, hidden_dim, dropout=dropout, num_layers=2)\n",
    "        self.embeddings = nn.Embedding(n_vocab, embedding_dim)\n",
    "        self.fc = nn.Linear(hidden_dim, n_vocab)\n",
    "    \n",
    "    def forward(self, seq_in):\n",
    "        # Transpose the input for LSTM\n",
    "        embedded = self.embeddings(seq_in.t()) \n",
    "        lstm_out, _ = self.lstm(embedded)\n",
    "        # Use the last character's output\n",
    "        ht = lstm_out[-1] \n",
    "        out = self.fc(ht)\n",
    "        return out\n",
    "\n",
    "\n",
    "\n",
    "# Initialize the model with dynamic n_vocab\n",
    "n_vocab = len(dataset.char_to_int)\n",
    "model = Simple_LSTM(n_vocab, 256, 256).to(device)\n",
    "optimizer = optim.Adam(model.parameters(), lr=0.001)\n",
    "loss_fn = nn.CrossEntropyLoss()\n",
    "\n",
    "# Training and validation loop\n",
    "n_epochs = 20\n",
    "avg_losses_f = []\n",
    "avg_val_losses_f = []\n",
    "\n",
    "best_val_loss = float('inf')# Placeholder for model saving logic\n",
    "\n",
    "from tqdm import tqdm\n",
    "\n",
    "for epoch in tqdm(range(n_epochs)):\n",
    "    start_time = time.time()\n",
    "    \n",
    "    # Training phase\n",
    "    model.train()\n",
    "    avg_loss = 0.\n",
    "    for x_batch, y_batch in train_loader:\n",
    "        x_batch, y_batch = x_batch.to(device), y_batch.to(device)\n",
    "        y_pred = model(x_batch)\n",
    "        loss = loss_fn(y_pred, y_batch)\n",
    "        optimizer.zero_grad()\n",
    "        loss.backward()\n",
    "        optimizer.step()\n",
    "        avg_loss += loss.item() / len(train_loader)\n",
    "\n",
    "    # Validation phase\n",
    "    model.eval()\n",
    "    avg_val_loss = 0.\n",
    "    with torch.no_grad():\n",
    "        for x_val, y_val in val_loader:\n",
    "            x_val, y_val = x_val.to(device), y_val.to(device)\n",
    "            y_val_pred = model(x_val)\n",
    "            val_loss = loss_fn(y_val_pred, y_val)\n",
    "            avg_val_loss += val_loss.item() / len(val_loader)\n",
    "\n",
    "    elapsed_time = time.time() - start_time\n",
    "    print(f'Epoch {epoch + 1}/{n_epochs} \\t loss={avg_loss:.4f} \\t val_loss={avg_val_loss:.4f} \\t time={elapsed_time:.2f}s')\n",
    "\n",
    "    avg_losses_f.append(avg_loss)\n",
    "    avg_val_losses_f.append(avg_val_loss)\n",
    "\n",
    "    # Save the model if validation loss has improved\n",
    "    if avg_val_losses_f[-1] < best_val_loss:\n",
    "        best_val_loss = avg_val_losses_f[-1]\n",
    "        torch.save(model.state_dict(), 'best_model.pth')\n",
    "        print(\"Model saved at epoch\", epoch + 1)\n",
    "\n",
    "# Print average losses\n",
    "print(f'Average training loss: {np.mean(avg_losses_f):.4f}')\n",
    "print(f'Average validation loss: {np.mean(avg_val_losses_f):.4f}')\n"
   ]
  },
  {
   "cell_type": "code",
   "execution_count": 2,
   "id": "f738d109",
   "metadata": {},
   "outputs": [
    {
     "data": {
      "image/png": "[encoded data removed]",
      "text/plain": [
       "<Figure size 1200x600 with 1 Axes>"
      ]
     },
     "metadata": {},
     "output_type": "display_data"
    }
   ],
   "source": [
    "import matplotlib.pyplot as plt\n",
    "\n",
    "# Plot training and validation losses\n",
    "plt.figure(figsize=(12, 6))\n",
    "\n",
    "# Plot training loss\n",
    "plt.plot(avg_losses_f, label='Training Loss', color='blue')\n",
    "\n",
    "# Plot validation loss\n",
    "plt.plot(avg_val_losses_f, label='Validation Loss', color='red')\n",
    "\n",
    "# Add title and labels\n",
    "plt.title('Training and Validation Losses Over Epochs')\n",
    "plt.xlabel('Epoch')\n",
    "plt.ylabel('Loss')\n",
    "\n",
    "# Add a legend\n",
    "plt.legend()\n",
    "plt.grid()\n",
    "# Show the plot\n",
    "plt.show()\n"
   ]
  },
  {
   "cell_type": "markdown",
   "id": "34e15e2e",
   "metadata": {},
   "source": [
    "# Generation text"
   ]
  },
  {
   "cell_type": "code",
   "execution_count": 5,
   "id": "84c5220a",
   "metadata": {},
   "outputs": [
    {
     "name": "stdout",
     "output_type": "stream",
     "text": [
      "It's me, hi, I'm the problem, it's me \n",
      "At tea time, everybody agrees that i lease that i don't live in a stain\n",
      "i don't wanna be that wean and i don't want you and that it an all back to near of the want\n",
      "and then take the wall be singin and thing in a storn and thing and i come back to to\n"
     ]
    }
   ],
   "source": [
    "import numpy as np\n",
    "import torch\n",
    "from torch.autograd import Variable\n",
    "import torch.nn.functional as F\n",
    "\n",
    "def sample(preds, temperature=1.0):\n",
    "    preds = np.asarray(preds).astype('float64')\n",
    "    preds = np.log(preds) / temperature\n",
    "    exp_preds = np.exp(preds)\n",
    "    preds = exp_preds / np.sum(exp_preds)\n",
    "    probas = np.random.multinomial(1, preds, 1)\n",
    "    return np.argmax(probas)\n",
    "\n",
    "# Define the start sentence for the Taylor Swift lyrics predictor\n",
    "sentence = \"It's me, hi, I'm the problem, it's me \\nAt tea time, everybody agrees\"\n",
    "\n",
    "variance = 0.25  # Temperature for sampling\n",
    "generated = ''\n",
    "original = sentence\n",
    "window = sentence\n",
    "\n",
    "seq_length = 50  # Length of the sequence used for training\n",
    "\n",
    "for i in range(220):  # Generate 220 characters\n",
    "    #  window must be exactly seq_length characters\n",
    "    while len(window) < seq_length:\n",
    "        window = ' ' + window  # Add padding if necessary\n",
    "    window = window[-seq_length:]  # Truncate to seq_length\n",
    "\n",
    "    x = np.zeros((1, seq_length))\n",
    "    for t, char in enumerate(window):\n",
    "        x[0, t] = dataset.char_to_int[char] if char in dataset.char_to_int else 0\n",
    "        \n",
    "    x_in = Variable(torch.LongTensor(x).to(device))\n",
    "    pred = model(x_in)\n",
    "    pred = np.array(F.softmax(pred, dim=1).data[0].cpu())\n",
    "    next_index = sample(pred, variance)\n",
    "    next_char = dataset.int_to_char[next_index]\n",
    "\n",
    "    generated += next_char\n",
    "    window = window[1:] + next_char  # Slide the window\n",
    "\n",
    "print(original + generated)\n"
   ]
  },
  {
   "cell_type": "code",
   "execution_count": null,
   "id": "4bc1bf58",
   "metadata": {},
   "outputs": [],
   "source": []
  }
 ],
 "metadata": {
  "kernelspec": {
   "display_name": "Python 3 (ipykernel)",
   "language": "python",
   "name": "python3"
  },
  "language_info": {
   "codemirror_mode": {
    "name": "ipython",
    "version": 3
   },
   "file_extension": ".py",
   "mimetype": "text/x-python",
   "name": "python",
   "nbconvert_exporter": "python",
   "pygments_lexer": "ipython3",
   "version": "3.9.18"
  }
 },
 "nbformat": 4,
 "nbformat_minor": 5
}
